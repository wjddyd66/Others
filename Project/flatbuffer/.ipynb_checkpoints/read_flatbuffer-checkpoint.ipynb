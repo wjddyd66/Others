{
 "cells": [
  {
   "cell_type": "code",
   "execution_count": 7,
   "metadata": {},
   "outputs": [
    {
     "ename": "SyntaxError",
     "evalue": "from __future__ imports must occur at the beginning of the file (<ipython-input-7-d11408df18b9>, line 8)",
     "output_type": "error",
     "traceback": [
      "\u001b[0;36m  File \u001b[0;32m\"<ipython-input-7-d11408df18b9>\"\u001b[0;36m, line \u001b[0;32m8\u001b[0m\n\u001b[0;31mSyntaxError\u001b[0m\u001b[0;31m:\u001b[0m from __future__ imports must occur at the beginning of the file\n"
     ]
    }
   ],
   "source": [
    "import MyGame.Sample.Monster as example\n",
    "import MyGame.Sample.Equipment as equip\n",
    "import MyGame.Sample.Weapon as weapon\n",
    "import sys"
   ]
  },
  {
   "cell_type": "code",
   "execution_count": 9,
   "metadata": {},
   "outputs": [
    {
     "name": "stdout",
     "output_type": "stream",
     "text": [
      "Monster Weapon_list\n",
      "Weapon Name:  b'w3'\n",
      "Weapon Damage:  30\n",
      "Weapon Name:  b'w2'\n",
      "Weapon Damage:  20\n",
      "Weapon Name:  b'w1'\n",
      "Weapon Damage:  10\n",
      "\n",
      "Monster Name b'w3'\n",
      "\n",
      "Monster Inventory\n"
     ]
    },
    {
     "ename": "AttributeError",
     "evalue": "'int' object has no attribute 'decode'",
     "output_type": "error",
     "traceback": [
      "\u001b[0;31m---------------------------------------------------------------------------\u001b[0m",
      "\u001b[0;31mAttributeError\u001b[0m                            Traceback (most recent call last)",
      "\u001b[0;32m<ipython-input-9-20ebb98ee15a>\u001b[0m in \u001b[0;36m<module>\u001b[0;34m\u001b[0m\n\u001b[1;32m     14\u001b[0m \u001b[0mprint\u001b[0m\u001b[0;34m(\u001b[0m\u001b[0;34m'Monster Inventory'\u001b[0m\u001b[0;34m)\u001b[0m\u001b[0;34m\u001b[0m\u001b[0;34m\u001b[0m\u001b[0m\n\u001b[1;32m     15\u001b[0m \u001b[0;32mfor\u001b[0m \u001b[0mi\u001b[0m \u001b[0;32min\u001b[0m \u001b[0mrange\u001b[0m\u001b[0;34m(\u001b[0m\u001b[0mmonster\u001b[0m\u001b[0;34m.\u001b[0m\u001b[0mInventoryLength\u001b[0m\u001b[0;34m(\u001b[0m\u001b[0;34m)\u001b[0m\u001b[0;34m)\u001b[0m\u001b[0;34m:\u001b[0m\u001b[0;34m\u001b[0m\u001b[0;34m\u001b[0m\u001b[0m\n\u001b[0;32m---> 16\u001b[0;31m     \u001b[0msys\u001b[0m\u001b[0;34m.\u001b[0m\u001b[0mstdout\u001b[0m\u001b[0;34m.\u001b[0m\u001b[0mwrite\u001b[0m\u001b[0;34m(\u001b[0m\u001b[0mmonster\u001b[0m\u001b[0;34m.\u001b[0m\u001b[0mInventory\u001b[0m\u001b[0;34m(\u001b[0m\u001b[0mi\u001b[0m\u001b[0;34m)\u001b[0m\u001b[0;34m)\u001b[0m\u001b[0;34m\u001b[0m\u001b[0;34m\u001b[0m\u001b[0m\n\u001b[0m\u001b[1;32m     17\u001b[0m     \u001b[0;31m#print(monster.Inventory(i),end=' ')\u001b[0m\u001b[0;34m\u001b[0m\u001b[0;34m\u001b[0m\u001b[0;34m\u001b[0m\u001b[0m\n\u001b[1;32m     18\u001b[0m \u001b[0mprint\u001b[0m\u001b[0;34m(\u001b[0m\u001b[0;34m)\u001b[0m\u001b[0;34m\u001b[0m\u001b[0;34m\u001b[0m\u001b[0m\n",
      "\u001b[0;32m/usr/local/lib/python3.6/dist-packages/ipykernel/iostream.py\u001b[0m in \u001b[0;36mwrite\u001b[0;34m(self, string)\u001b[0m\n\u001b[1;32m    394\u001b[0m             \u001b[0;31m# Make sure that we're handling unicode\u001b[0m\u001b[0;34m\u001b[0m\u001b[0;34m\u001b[0m\u001b[0;34m\u001b[0m\u001b[0m\n\u001b[1;32m    395\u001b[0m             \u001b[0;32mif\u001b[0m \u001b[0;32mnot\u001b[0m \u001b[0misinstance\u001b[0m\u001b[0;34m(\u001b[0m\u001b[0mstring\u001b[0m\u001b[0;34m,\u001b[0m \u001b[0municode_type\u001b[0m\u001b[0;34m)\u001b[0m\u001b[0;34m:\u001b[0m\u001b[0;34m\u001b[0m\u001b[0;34m\u001b[0m\u001b[0m\n\u001b[0;32m--> 396\u001b[0;31m                 \u001b[0mstring\u001b[0m \u001b[0;34m=\u001b[0m \u001b[0mstring\u001b[0m\u001b[0;34m.\u001b[0m\u001b[0mdecode\u001b[0m\u001b[0;34m(\u001b[0m\u001b[0mself\u001b[0m\u001b[0;34m.\u001b[0m\u001b[0mencoding\u001b[0m\u001b[0;34m,\u001b[0m \u001b[0;34m'replace'\u001b[0m\u001b[0;34m)\u001b[0m\u001b[0;34m\u001b[0m\u001b[0;34m\u001b[0m\u001b[0m\n\u001b[0m\u001b[1;32m    397\u001b[0m \u001b[0;34m\u001b[0m\u001b[0m\n\u001b[1;32m    398\u001b[0m             \u001b[0mis_child\u001b[0m \u001b[0;34m=\u001b[0m \u001b[0;34m(\u001b[0m\u001b[0;32mnot\u001b[0m \u001b[0mself\u001b[0m\u001b[0;34m.\u001b[0m\u001b[0m_is_master_process\u001b[0m\u001b[0;34m(\u001b[0m\u001b[0;34m)\u001b[0m\u001b[0;34m)\u001b[0m\u001b[0;34m\u001b[0m\u001b[0;34m\u001b[0m\u001b[0m\n",
      "\u001b[0;31mAttributeError\u001b[0m: 'int' object has no attribute 'decode'"
     ]
    }
   ],
   "source": [
    "buf = open(sys.argv[1], 'rb').read()\n",
    "buf = bytearray(buf)\n",
    "monster = example.Monster.GetRootAsMonster(buf, 0)\n",
    "\n",
    "print('Monster Weapon_list')\n",
    "weapons_length = monster.WeaponsLength()\n",
    "for i in range(weapons_length):\n",
    "    print('Weapon Name: ',monster.Weapons(i).Name())\n",
    "    print('Weapon Damage: ',monster.Weapons(i).Damage())   \n",
    "print(\"Monster Name\",monster.Name())\n",
    "print('Monster Inventory')\n",
    "for i in range(monster.InventoryLength()):\n",
    "    print(monster.Inventory(i))\n",
    "print('Monster Pos')\n",
    "pos = monster.Pos()\n",
    "print('Pos.x: ',pos.X())\n",
    "print('Pos.y: ',pos.Y())\n",
    "print('Pos.z: ',pos.Z())\n",
    "print('Monster Hp',monster.Hp())\n",
    "color = monster.Color()\n",
    "if color == 0:\n",
    "    print('Monter Color: Red')\n",
    "elif color ==1:\n",
    "    print('Monster Color: Green')\n",
    "else:\n",
    "    print('Monster Color: Blue')\n",
    "\n",
    "print('Monster Mana',monster.Mana())\n",
    "\n",
    "\n",
    "print('Monster Equipped List')\n",
    "union_type = monster.EquippedType()\n",
    "if union_type == equip.Equipment().Weapon:\n",
    "  # `monster.Equipped()` returns a `flatbuffers.Table`, which can be used to\n",
    "  # initialize a `MyGame.Sample.Weapon.Weapon()`.\n",
    "    union_weapon = weapon.Weapon()\n",
    "    union_weapon.Init(monster.Equipped().Bytes, monster.Equipped().Pos)\n",
    "    weapon_name = union_weapon.Name()     \n",
    "    weapon_damage = union_weapon.Damage()\n",
    "    print('Weapon name: ',weapon_name)\n",
    "    print('Weapon damage: ',weapon_damage)"
   ]
  }
 ],
 "metadata": {
  "kernelspec": {
   "display_name": "Python 3",
   "language": "python",
   "name": "python3"
  },
  "language_info": {
   "codemirror_mode": {
    "name": "ipython",
    "version": 3
   },
   "file_extension": ".py",
   "mimetype": "text/x-python",
   "name": "python",
   "nbconvert_exporter": "python",
   "pygments_lexer": "ipython3",
   "version": "3.6.8"
  }
 },
 "nbformat": 4,
 "nbformat_minor": 2
}
