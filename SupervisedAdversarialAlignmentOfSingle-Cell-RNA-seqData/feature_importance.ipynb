{
 "cells": [
  {
   "cell_type": "code",
   "execution_count": 1,
   "metadata": {},
   "outputs": [],
   "source": [
    "import os\n",
    "import numpy as np\n",
    "import torch\n",
    "from utils.train_util import ClassicTrainer, ADGTrainer\n",
    "from utils.data_util import dataset, dataset_CADG"
   ]
  },
  {
   "cell_type": "markdown",
   "metadata": {},
   "source": [
    "## NN and CDGN"
   ]
  },
  {
   "cell_type": "code",
   "execution_count": 42,
   "metadata": {
    "scrolled": false
   },
   "outputs": [
    {
     "name": "stdout",
     "output_type": "stream",
     "text": [
      "DANN_Siamese(\n",
      "  (feature_extractor): Sequential(\n",
      "    (0): Linear(in_features=20499, out_features=1136, bias=True)\n",
      "    (1): Tanh()\n",
      "    (2): Linear(in_features=1136, out_features=100, bias=True)\n",
      "    (3): Tanh()\n",
      "  )\n",
      "  (domain_classifier): Sequential(\n",
      "    (0): Linear(in_features=100, out_features=40, bias=True)\n",
      "  )\n",
      "  (label_classifier): Sequential(\n",
      "    (0): Linear(in_features=100, out_features=39, bias=True)\n",
      "  )\n",
      ")\n",
      "ClassicNN(\n",
      "  (h1): Sequential(\n",
      "    (0): Linear(in_features=20499, out_features=1136, bias=True)\n",
      "    (1): Tanh()\n",
      "  )\n",
      "  (h2): Sequential(\n",
      "    (0): Linear(in_features=1136, out_features=100, bias=True)\n",
      "    (1): Tanh()\n",
      "  )\n",
      "  (o): Sequential(\n",
      "    (0): Linear(in_features=100, out_features=39, bias=True)\n",
      "  )\n",
      ")\n"
     ]
    }
   ],
   "source": [
    "#################### Settings ##############################\n",
    "num_epochs = 100\n",
    "batch_size = 256\n",
    "dim1 = 1136\n",
    "dim2 = 100\n",
    "d_dim = 20499\n",
    "dim_label = 39\n",
    "dataset_name = 39\n",
    "dim_domain = 64\n",
    "data_path = 'data/'\n",
    "model_path = 'ckpts/'\n",
    "os.environ[\"CUDA_DEVICE_ORDER\"]=\"PCI_BUS_ID\"\n",
    "os.environ[\"CUDA_VISIBLE_DEVICES\"]=\"1\"\n",
    "#################### Settings ##############################\n",
    "\n",
    "d_NN = dataset(data_path, batch_size, label_size=dim_label,dataset_name=dataset_name, validation=False)\n",
    "d_scDGN = dataset_CADG(data_path, batch_size, label_size=dim_label,dataset_name=dataset_name, validation=False)\n",
    "\n",
    "NN_name = 'pancreas1_test_NN'\n",
    "scDGN_name = 'pancreas1_test_scDGN'\n",
    "\n",
    "log = dict()\n",
    "t_scDGN = ADGTrainer(d_dim, 1, 1, dim1, dim2, dim_label, dim_domain, num_epochs, model_path, batch_size, use_gpu=True)\n",
    "t_NN = ClassicTrainer(d_dim, dim1, dim2, dim_label, num_epochs, model_path, batch_size, use_gpu=True)\n",
    "\n",
    "t_NN.dataset = d_NN\n",
    "t_NN.load_model(os.path.join(model_path, NN_name,'final_model.ckpt')\n",
    "t_scDGN.dataset = d_scDGN\n",
    "t_scDGN.load_model(os.path.join(model_path, scDGN_name,'final_model.ckpt')\n",
    "\n",
    "gene_names = np.load('data/gene_symbols_0413.npy')\n",
    "cell_names = [' '.join(line.split('-')[0].split()[1:]) for line in open('data/scquery_ct.txt').readlines()]\n",
    "# gene_names = [line.split(',')[1].strip('\"\\n') for line in open('data/genename_pancreas.csv')][1:]\n",
    "# cell_names = [line.split('-')[0] for line in open('data/pancreas.txt').readlines()]"
   ]
  },
  {
   "cell_type": "code",
   "execution_count": 49,
   "metadata": {
    "scrolled": true
   },
   "outputs": [],
   "source": [
    "# extract the mean expression values\n",
    "n_genes = 100\n",
    "out_path = 'eval/'\n",
    "for cate_id in range(39):\n",
    "    counts = 0.\n",
    "\n",
    "    mean_value_ori = np.zeros(20499)\n",
    "    # mean_value_ori = np.zeros(3000)\n",
    "\n",
    "    # analysis NN: backpropogate the gradient of beta and quiescent_stellate \n",
    "    mean_value = np.copy(mean_value_ori)\n",
    "    resulted_values_NN = []\n",
    "    for i in range(100):\n",
    "        t_NN.D.zero_grad()\n",
    "        mean_value_variable = Variable(torch.Tensor(mean_value).view(1, -1).cuda(), requires_grad=True)\n",
    "        act_value = t_NN.D.forward(mean_value_variable)\n",
    "        diff_out = act_value[:,cate_id:cate_id+1]\n",
    "        diff_out.backward()\n",
    "        mean_value_variable.data.add_(mean_value_variable.grad.data)\n",
    "        mean_value = mean_value_variable.data.cpu().numpy()\n",
    "        resulted_values_NN.append(mean_value)\n",
    "\n",
    "    # analysis scDGN: backpropogate the gradient of beta and quiescent_stellate \n",
    "    mean_value = np.copy(mean_value_ori)\n",
    "    resulted_values_scDGN = []\n",
    "    for i in range(100):\n",
    "        t_scDGN.D.zero_grad()\n",
    "        mean_value_variable = Variable(torch.Tensor(mean_value).view(1, -1).cuda(), requires_grad=True)\n",
    "        act_value, _, _ = t_scDGN.D.forward(mean_value_variable, mean_value_variable)\n",
    "        diff_out = act_value[:,cate_id:cate_id+1]\n",
    "        diff_out.backward()\n",
    "        mean_value_variable.data.add_(mean_value_variable.grad.data)\n",
    "        mean_value = mean_value_variable.data.cpu().numpy()\n",
    "        resulted_values_scDGN.append(mean_value)\n",
    "\n",
    "    # save DE gene names \n",
    "    cell_type = cell_names[cate_id]\n",
    "    with open(os.path.join(out_path, 'NN_%s_%d.txt'%(cell_type, n_genes)), 'w') as fw:\n",
    "        diff_NN = (resulted_values_NN[-1]-mean_value_ori)[0]\n",
    "        diff_NN_ids = np.abs(diff_NN).argsort()[-n_genes:][::-1]\n",
    "        for index in diff_NN_ids:\n",
    "            fw.write('%s\\n'%(gene_names[index]))\n",
    "\n",
    "    with open(os.path.join(out_path, 'scDGN_%s_%d.txt'%(cell_type, n_genes)), 'w') as fw:\n",
    "        diff_scDGN = (resulted_values_scDGN[-1]-mean_value_ori)[0]\n",
    "        diff_scDGN_ids = np.abs(diff_scDGN).argsort()[-n_genes:][::-1]\n",
    "        for index in diff_scDGN_ids:\n",
    "            fw.write('%s\\n'%(gene_names[index]))\n",
    "\n",
    "    with open(os.path.join(out_path, 'Diff_%s_%d.txt'%(cell_type, n_genes)), 'w') as fw:\n",
    "        diff_ids = np.setdiff1d(diff_scDGN_ids, diff_NN_ids)\n",
    "        for index in diff_ids:\n",
    "            fw.write('%s\\n'%(gene_names[index]))"
   ]
  }
 ],
 "metadata": {
  "kernelspec": {
   "display_name": "Python 3",
   "language": "python",
   "name": "python3"
  },
  "language_info": {
   "codemirror_mode": {
    "name": "ipython",
    "version": 3
   },
   "file_extension": ".py",
   "mimetype": "text/x-python",
   "name": "python",
   "nbconvert_exporter": "python",
   "pygments_lexer": "ipython3",
   "version": "3.7.0"
  }
 },
 "nbformat": 4,
 "nbformat_minor": 2
}
