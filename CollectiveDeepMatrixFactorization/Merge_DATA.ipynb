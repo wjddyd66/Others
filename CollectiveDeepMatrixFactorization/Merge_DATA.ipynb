{
 "cells": [
  {
   "cell_type": "markdown",
   "metadata": {},
   "source": [
    "# Merge Data\n",
    "SNP_Data_Preprocessing의 결과와 MRI-Dataset의 결과를 Merge하고 Label을 달아서 Model에 넣을 Dataset으로서 만드는 과정입니다."
   ]
  },
  {
   "cell_type": "code",
   "execution_count": 1,
   "metadata": {},
   "outputs": [],
   "source": [
    "from pandas_plink import read_plink1_bin\n",
    "import os\n",
    "import pandas as pd\n",
    "import os\n",
    "import numpy as np"
   ]
  },
  {
   "cell_type": "markdown",
   "metadata": {},
   "source": [
    "NL_MCI, NL_AD, NL_MCI_AD File, ROI 불러오기"
   ]
  },
  {
   "cell_type": "code",
   "execution_count": 2,
   "metadata": {},
   "outputs": [],
   "source": [
    "file_path = './SNP_DATA/'\n",
    "\n",
    "NL_MCI = pd.read_csv(file_path+\"NL_MCI.csv\",index_col=0)\n",
    "NL_AD = pd.read_csv(file_path+\"NL_AD.csv\",index_col=0)\n",
    "NL_MCI_AD = pd.read_csv(file_path+'preprocessing_snp.csv')\n",
    "\n",
    "X_roi = pd.read_csv('./MRI_DATA/CDMF_ROI_Final.csv', index_col=0)"
   ]
  },
  {
   "cell_type": "markdown",
   "metadata": {},
   "source": [
    "NL_MCI_AD P-Value 제거"
   ]
  },
  {
   "cell_type": "code",
   "execution_count": 3,
   "metadata": {},
   "outputs": [],
   "source": [
    "NL_MCI_AD = NL_MCI_AD.iloc[0:len(NL_MCI_AD)-1]"
   ]
  },
  {
   "cell_type": "markdown",
   "metadata": {},
   "source": [
    "Load Label"
   ]
  },
  {
   "cell_type": "code",
   "execution_count": 4,
   "metadata": {},
   "outputs": [],
   "source": [
    "subject_path = file_path+'ADNI_ScreeningList_8_22_12.csv'\n",
    "subject = pd.read_csv(subject_path)\n",
    "\n",
    "imsi_label = subject.loc[:,[\"PTID\",\"Screen.Diagnosis\"]]\n",
    "imsi_label.rename(columns = {\"PTID\":\"Subject\",\"Screen.Diagnosis\":\"Label\"},inplace=True)\n",
    "# Delete Subject duplicated\n",
    "imsi_label = imsi_label.drop_duplicates(['Subject'], keep='first')"
   ]
  },
  {
   "cell_type": "markdown",
   "metadata": {},
   "source": [
    "One-Hot-Encoding => NL_MCI_AD Label\n",
    "- NL: [1,0,0]\n",
    "- MCI: [0,1,0]\n",
    "- AD: [0,0,1]"
   ]
  },
  {
   "cell_type": "code",
   "execution_count": 5,
   "metadata": {},
   "outputs": [],
   "source": [
    "def one_hot(x):\n",
    "    if x == \"NL\":\n",
    "        return np.array([1.,0.,0.])\n",
    "    elif x == \"MCI\":\n",
    "        return np.array([0.,1.,0.])\n",
    "    else:\n",
    "        return np.array([0.,0.,1.])\n",
    "    \n",
    "imsi_label[\"Label\"] = imsi_label[\"Label\"].apply(lambda x:one_hot(x))"
   ]
  },
  {
   "cell_type": "markdown",
   "metadata": {},
   "source": [
    "Merge SNPs Data and ROI Data"
   ]
  },
  {
   "cell_type": "code",
   "execution_count": 6,
   "metadata": {},
   "outputs": [],
   "source": [
    "# NL_MCI_AD\n",
    "X_NL_MCI_AD = pd.merge(X_roi,NL_MCI_AD,on=\"Subject\",how=\"right\")\n",
    "X_NL_MCI_AD = pd.merge(X_NL_MCI_AD,imsi_label,on='Subject',how='left')\n",
    "\n",
    "# NL_MCI\n",
    "X_NL_MCI = pd.merge(X_roi,NL_MCI,on='Subject',how='right')\n",
    "\n",
    "# NL_MCI\n",
    "X_NL_AD = pd.merge(X_roi,NL_AD,on='Subject',how='right')"
   ]
  },
  {
   "cell_type": "markdown",
   "metadata": {},
   "source": [
    "Delete Specific Subject  \n",
    "\n",
    "각가의 전처리 과정(Plink or Freesurfer)에서 Quality가 좋지 않은 Subject를 제거하였습니다. 따라서 Subject를 통일시켜주는 작업을 추가적으로 실시한다."
   ]
  },
  {
   "cell_type": "code",
   "execution_count": 7,
   "metadata": {},
   "outputs": [],
   "source": [
    "# Specific Subject Delete\n",
    "X_NL_MCI = X_NL_MCI[X_NL_MCI[\"Subject\"]!=\"018_S_0043\"]\n",
    "X_NL_MCI = X_NL_MCI[X_NL_MCI[\"Subject\"]!=\"005_S_1224\"]\n",
    "\n",
    "X_NL_AD = X_NL_AD[X_NL_AD[\"Subject\"]!=\"009_S_1334\"]\n",
    "X_NL_AD = X_NL_AD[X_NL_AD[\"Subject\"]!=\"100_S_0747\"]\n",
    "X_NL_AD = X_NL_AD[X_NL_AD[\"Subject\"]!=\"018_S_0043\"]"
   ]
  },
  {
   "cell_type": "markdown",
   "metadata": {},
   "source": [
    "Data Quality Check"
   ]
  },
  {
   "cell_type": "code",
   "execution_count": 8,
   "metadata": {},
   "outputs": [
    {
     "name": "stdout",
     "output_type": "stream",
     "text": [
      "Total num of Null:  0\n",
      "Total num of duplicated:  0\n",
      "Total num of Null:  0\n",
      "Total num of duplicated:  0\n",
      "Total num of Null:  0\n",
      "Total num of duplicated:  0\n"
     ]
    }
   ],
   "source": [
    "# NL_MCI_AD\n",
    "# Null값 확인\n",
    "print(\"Total num of Null: \",X_NL_MCI_AD.isnull().sum().sum())\n",
    "\n",
    "# Duplicate 확인\n",
    "print(\"Total num of duplicated: \",X_NL_MCI_AD.duplicated(\"Subject\").sum())\n",
    "\n",
    "# NL_MCI\n",
    "# Null값 확인\n",
    "print(\"Total num of Null: \",X_NL_MCI.isnull().sum().sum())\n",
    "\n",
    "# Duplicate 확인\n",
    "print(\"Total num of duplicated: \",X_NL_MCI.duplicated(\"Subject\").sum())\n",
    "\n",
    "# NL_MCI_AD\n",
    "# Null값 확인\n",
    "print(\"Total num of Null: \",X_NL_AD.isnull().sum().sum())\n",
    "\n",
    "# Duplicate 확인\n",
    "print(\"Total num of duplicated: \",X_NL_AD.duplicated(\"Subject\").sum())"
   ]
  },
  {
   "cell_type": "markdown",
   "metadata": {},
   "source": [
    "NL_MCI or NL_AD에서 사용할 SNPs Data는 One-Hot-Encoding을 사용하게 된다.  \n",
    "\n",
    "NL_MCI_AD의 경우에는 Label이 One-Hot-Encoding이여서, One-Hot-Encoding으로서 SNPs Data를 바꾸게 되면, Overfitting이 심하게 일어나게 된다. 따라서 NL_MCI_AD의 SNPs Data는 One-Hot-Encoding을 거치지 않는다."
   ]
  },
  {
   "cell_type": "code",
   "execution_count": 9,
   "metadata": {},
   "outputs": [],
   "source": [
    "def one_hot_snp(x):\n",
    "    a = list()\n",
    "    for i in x:\n",
    "        if i == 0:\n",
    "            a.append(np.array([1.,0.,0.]))\n",
    "        elif i == 1:\n",
    "            a.append(np.array([0.,1.,0.]))\n",
    "        else:\n",
    "            a.append(np.array([0.,0.,1.]))\n",
    "    return a"
   ]
  },
  {
   "cell_type": "markdown",
   "metadata": {},
   "source": [
    "NL_MCI Final Preprocessing"
   ]
  },
  {
   "cell_type": "code",
   "execution_count": 10,
   "metadata": {},
   "outputs": [
    {
     "name": "stdout",
     "output_type": "stream",
     "text": [
      "X_roi's Number of Nan:  0\n",
      "X_snp's Number of Nan:  0\n",
      "Y_Label's Number of Nan:  0\n",
      "X_roi's shape:  (578, 333)\n",
      "X_snp's shape:  (578, 200, 3)\n",
      "Y_Label's shape:  (578,)\n"
     ]
    }
   ],
   "source": [
    "file_path = './data/NL_MCI_Data/'\n",
    "\n",
    "Y_Label = X_NL_MCI.pop(\"Label\")-1\n",
    "\n",
    "X_snp = X_NL_MCI.loc[:,\"rs10864271\":\"rs429358\"]\n",
    "X_snp = X_snp.apply(one_hot_snp)\n",
    "\n",
    "X_roi = X_NL_MCI.loc[:,\"rh_bankssts_area\":\"CerebralWhiteMatterVol_y\"]\n",
    "X_roi = (X_roi-X_roi.min())/(X_roi.max()-X_roi.min())\n",
    "\n",
    "X_snp_ = np.zeros((X_snp.shape[0],X_snp.shape[1],3))\n",
    "\n",
    "for i in range(len(X_snp)):\n",
    "    for j in range(len(X_snp.iloc[i])):\n",
    "        X_snp_[i,j]=X_snp.iloc[i,j]\n",
    "\n",
    "X_snp = X_snp_\n",
    "X_snp_.shape\n",
    "\n",
    "X_roi.to_csv(file_path+'X_roi.csv')\n",
    "np.save(file_path+'X_snp.npy',X_snp)\n",
    "Y_Label.to_csv(file_path+'Label.csv')\n",
    "\n",
    "# Data Check\n",
    "print(\"X_roi's Number of Nan: \",X_roi.isna().sum().sum())\n",
    "print(\"X_snp's Number of Nan: \",np.isnan(X_snp).sum())\n",
    "print(\"Y_Label's Number of Nan: \",Y_Label.isna().sum())\n",
    "\n",
    "# Data Shape\n",
    "print(\"X_roi's shape: \",X_roi.shape)\n",
    "print(\"X_snp's shape: \",X_snp.shape)\n",
    "print(\"Y_Label's shape: \",Y_Label.shape)"
   ]
  },
  {
   "cell_type": "markdown",
   "metadata": {},
   "source": [
    "NL_AD Final Preprocessing"
   ]
  },
  {
   "cell_type": "code",
   "execution_count": 11,
   "metadata": {},
   "outputs": [
    {
     "name": "stdout",
     "output_type": "stream",
     "text": [
      "X_roi's Number of Nan:  0\n",
      "X_snp's Number of Nan:  0\n",
      "Y_Label's Number of Nan:  0\n",
      "X_roi's shape:  (385, 333)\n",
      "X_snp's shape:  (385, 201, 3)\n",
      "Y_Label's shape:  (385,)\n"
     ]
    }
   ],
   "source": [
    "file_path = './data/NL_AD_Data/'\n",
    "\n",
    "Y_Label = X_NL_AD.pop(\"Label\")-1\n",
    "\n",
    "X_snp = X_NL_AD.loc[:,\"rs7544111\":\"rs429358\"]\n",
    "X_snp = X_snp.apply(one_hot_snp)\n",
    "\n",
    "X_roi = X_NL_AD.loc[:,\"rh_bankssts_area\":\"CerebralWhiteMatterVol_y\"]\n",
    "X_roi = (X_roi-X_roi.min())/(X_roi.max()-X_roi.min())\n",
    "\n",
    "X_snp_ = np.zeros((X_snp.shape[0],X_snp.shape[1],3))\n",
    "\n",
    "for i in range(len(X_snp)):\n",
    "    for j in range(len(X_snp.iloc[i])):\n",
    "        X_snp_[i,j]=X_snp.iloc[i,j]\n",
    "\n",
    "X_snp = X_snp_\n",
    "X_snp_.shape\n",
    "\n",
    "X_roi.to_csv(file_path+'X_roi.csv')\n",
    "np.save(file_path+'X_snp.npy',X_snp)\n",
    "Y_Label.to_csv(file_path+'Label.csv')\n",
    "\n",
    "# Data Check\n",
    "print(\"X_roi's Number of Nan: \",X_roi.isna().sum().sum())\n",
    "print(\"X_snp's Number of Nan: \",np.isnan(X_snp).sum())\n",
    "print(\"Y_Label's Number of Nan: \",Y_Label.isna().sum())\n",
    "\n",
    "# Data Shape\n",
    "print(\"X_roi's shape: \",X_roi.shape)\n",
    "print(\"X_snp's shape: \",X_snp.shape)\n",
    "print(\"Y_Label's shape: \",Y_Label.shape)"
   ]
  },
  {
   "cell_type": "markdown",
   "metadata": {},
   "source": [
    "NL_MCI_AD Final Preprocessing"
   ]
  },
  {
   "cell_type": "code",
   "execution_count": 12,
   "metadata": {},
   "outputs": [
    {
     "name": "stdout",
     "output_type": "stream",
     "text": [
      "X_roi's Number of Nan:  0\n",
      "X_snp's Number of Nan:  0\n",
      "Y_Label's Number of Nan:  0\n",
      "X_roi's shape:  (750, 333)\n",
      "X_snp's shape:  (750, 200)\n",
      "Y_Label's shape:  (750, 3)\n"
     ]
    }
   ],
   "source": [
    "file_path = './data/NL_MCI_AD_Data/'\n",
    "\n",
    "Subject = X_NL_MCI_AD.pop(\"Subject\")\n",
    "Y_Label = X_NL_MCI_AD.pop(\"Label\")\n",
    "X_roi = X_NL_MCI_AD.loc[:,\"rh_bankssts_area\":\"CerebralWhiteMatterVol_y\"]\n",
    "X_roi = 2*((X_roi-X_roi.min())/(X_roi.max()-X_roi.min()))\n",
    "X_snp = X_NL_MCI_AD.loc[:,\"rs2075650\":\"rs10241890\"]\n",
    "\n",
    "Y = np.zeros((len(Y_Label),3))\n",
    "for i,y in enumerate(Y_Label):\n",
    "    Y[i] = y\n",
    "    \n",
    "X_roi.to_csv(file_path+'X_roi.csv')\n",
    "X_snp.to_csv(file_path+'X_snp.csv')\n",
    "np.save(file_path+'Label.npy', Y)\n",
    "\n",
    "# Data Check\n",
    "print(\"X_roi's Number of Nan: \",X_roi.isna().sum().sum())\n",
    "print(\"X_snp's Number of Nan: \",X_snp.isna().sum().sum())\n",
    "print(\"Y_Label's Number of Nan: \",np.isnan(Y).sum())\n",
    "\n",
    "# Data Shape\n",
    "print(\"X_roi's shape: \",X_roi.shape)\n",
    "print(\"X_snp's shape: \",X_snp.shape)\n",
    "print(\"Y_Label's shape: \",Y.shape)"
   ]
  }
 ],
 "metadata": {
  "kernelspec": {
   "display_name": "Python 3",
   "language": "python",
   "name": "python3"
  },
  "language_info": {
   "codemirror_mode": {
    "name": "ipython",
    "version": 3
   },
   "file_extension": ".py",
   "mimetype": "text/x-python",
   "name": "python",
   "nbconvert_exporter": "python",
   "pygments_lexer": "ipython3",
   "version": "3.8.2"
  }
 },
 "nbformat": 4,
 "nbformat_minor": 4
}
